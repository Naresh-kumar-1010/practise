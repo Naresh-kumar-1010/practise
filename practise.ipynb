{
  "nbformat": 4,
  "nbformat_minor": 0,
  "metadata": {
    "colab": {
      "provenance": [],
      "authorship_tag": "ABX9TyN4GohosSqmNtVJkKRwVt4w",
      "include_colab_link": true
    },
    "kernelspec": {
      "name": "python3",
      "display_name": "Python 3"
    },
    "language_info": {
      "name": "python"
    }
  },
  "cells": [
    {
      "cell_type": "markdown",
      "metadata": {
        "id": "view-in-github",
        "colab_type": "text"
      },
      "source": [
        "<a href=\"https://colab.research.google.com/github/Naresh-kumar-1010/practise/blob/main/practise.ipynb\" target=\"_parent\"><img src=\"https://colab.research.google.com/assets/colab-badge.svg\" alt=\"Open In Colab\"/></a>"
      ]
    },
    {
      "cell_type": "code",
      "execution_count": 1,
      "metadata": {
        "id": "hcu3cflEO_0r",
        "colab": {
          "base_uri": "https://localhost:8080/"
        },
        "outputId": "df170621-f45b-4fa8-e492-d3256d995d32"
      },
      "outputs": [
        {
          "output_type": "stream",
          "name": "stdout",
          "text": [
            "HELLO WORLD!\n"
          ]
        }
      ],
      "source": [
        "#First Program\n",
        "print(\"HELLO WORLD!\")"
      ]
    }
  ]
}