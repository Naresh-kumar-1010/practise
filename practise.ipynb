{
  "nbformat": 4,
  "nbformat_minor": 0,
  "metadata": {
    "colab": {
      "provenance": [],
      "authorship_tag": "ABX9TyPaLhZCa1ODN3lxdHfeksp+",
      "include_colab_link": true
    },
    "kernelspec": {
      "name": "python3",
      "display_name": "Python 3"
    },
    "language_info": {
      "name": "python"
    }
  },
  "cells": [
    {
      "cell_type": "markdown",
      "metadata": {
        "id": "view-in-github",
        "colab_type": "text"
      },
      "source": [
        "<a href=\"https://colab.research.google.com/github/Naresh-kumar-1010/practise/blob/main/practise.ipynb\" target=\"_parent\"><img src=\"https://colab.research.google.com/assets/colab-badge.svg\" alt=\"Open In Colab\"/></a>"
      ]
    },
    {
      "cell_type": "code",
      "execution_count": null,
      "metadata": {
        "id": "hcu3cflEO_0r",
        "colab": {
          "base_uri": "https://localhost:8080/"
        },
        "outputId": "df170621-f45b-4fa8-e492-d3256d995d32"
      },
      "outputs": [
        {
          "output_type": "stream",
          "name": "stdout",
          "text": [
            "HELLO WORLD!\n"
          ]
        }
      ],
      "source": [
        "#First Program\n",
        "print(\"HELLO WORLD!\")"
      ]
    },
    {
      "cell_type": "code",
      "source": [
        "#Variables\n",
        "var1=\"John\"\n",
        "print(var1)"
      ],
      "metadata": {
        "id": "2uNpjfAybjmA",
        "outputId": "b91fda98-76ab-406c-dd32-655bc5627a87",
        "colab": {
          "base_uri": "https://localhost:8080/"
        }
      },
      "execution_count": 2,
      "outputs": [
        {
          "output_type": "stream",
          "name": "stdout",
          "text": [
            "John\n"
          ]
        }
      ]
    },
    {
      "cell_type": "code",
      "source": [
        "var1=\"Sam\"\n",
        "print(var1)"
      ],
      "metadata": {
        "id": "x7-2h5yrbjpZ",
        "outputId": "e07cd476-ff07-4989-c003-c6b24af2e9f2",
        "colab": {
          "base_uri": "https://localhost:8080/"
        }
      },
      "execution_count": 3,
      "outputs": [
        {
          "output_type": "stream",
          "name": "stdout",
          "text": [
            "Sam\n"
          ]
        }
      ]
    },
    {
      "cell_type": "code",
      "source": [
        "var1=\"Matt\"\n",
        "print(var1)"
      ],
      "metadata": {
        "id": "cdmibXcMbjsf",
        "outputId": "2361f1b6-abf9-40f9-c526-978bbedf1bf0",
        "colab": {
          "base_uri": "https://localhost:8080/"
        }
      },
      "execution_count": 4,
      "outputs": [
        {
          "output_type": "stream",
          "name": "stdout",
          "text": [
            "Matt\n"
          ]
        }
      ]
    },
    {
      "cell_type": "code",
      "source": [
        "#Data-Type\n",
        "a=10\n",
        "type(a)"
      ],
      "metadata": {
        "id": "i4dZLBfjbjvP",
        "outputId": "22138e3b-802f-4e27-ff90-2b84a244fef5",
        "colab": {
          "base_uri": "https://localhost:8080/"
        }
      },
      "execution_count": 5,
      "outputs": [
        {
          "output_type": "execute_result",
          "data": {
            "text/plain": [
              "int"
            ]
          },
          "metadata": {},
          "execution_count": 5
        }
      ]
    },
    {
      "cell_type": "code",
      "source": [
        "a=10.5\n",
        "type(a)"
      ],
      "metadata": {
        "id": "lZgY67nTbx5n",
        "outputId": "4b54b651-eb7a-4217-bb3b-97afb36050a6",
        "colab": {
          "base_uri": "https://localhost:8080/"
        }
      },
      "execution_count": 6,
      "outputs": [
        {
          "output_type": "execute_result",
          "data": {
            "text/plain": [
              "float"
            ]
          },
          "metadata": {},
          "execution_count": 6
        }
      ]
    },
    {
      "cell_type": "code",
      "source": [
        "a=\"sparta\"\n",
        "type(a)"
      ],
      "metadata": {
        "id": "IkaXSHd3bx9N",
        "outputId": "5d8c1679-cdfe-4ebe-f64f-51353214a3c8",
        "colab": {
          "base_uri": "https://localhost:8080/"
        }
      },
      "execution_count": 7,
      "outputs": [
        {
          "output_type": "execute_result",
          "data": {
            "text/plain": [
              "str"
            ]
          },
          "metadata": {},
          "execution_count": 7
        }
      ]
    },
    {
      "cell_type": "code",
      "source": [],
      "metadata": {
        "id": "uY2TOQrqbyAx"
      },
      "execution_count": null,
      "outputs": []
    },
    {
      "cell_type": "code",
      "source": [
        "a=True\n",
        "type(a)"
      ],
      "metadata": {
        "id": "vZlVSzOmbykd",
        "outputId": "338b5227-d8db-4aa7-b722-4f25f8079fd2",
        "colab": {
          "base_uri": "https://localhost:8080/"
        }
      },
      "execution_count": 8,
      "outputs": [
        {
          "output_type": "execute_result",
          "data": {
            "text/plain": [
              "bool"
            ]
          },
          "metadata": {},
          "execution_count": 8
        }
      ]
    },
    {
      "cell_type": "code",
      "source": [
        "\n",
        "a=3+4j\n",
        "type(a)"
      ],
      "metadata": {
        "id": "qWKjLVsobyns",
        "outputId": "678b28f1-ec4e-4486-f863-6b2640441be6",
        "colab": {
          "base_uri": "https://localhost:8080/"
        }
      },
      "execution_count": 9,
      "outputs": [
        {
          "output_type": "execute_result",
          "data": {
            "text/plain": [
              "complex"
            ]
          },
          "metadata": {},
          "execution_count": 9
        }
      ]
    },
    {
      "cell_type": "code",
      "source": [
        "\n",
        "\n",
        "#Arithmetic Operators\n",
        "a=10\n",
        "b=20\n",
        "print(a+b)\n",
        "print(a-b)\n",
        "print(a*b)\n",
        "print(a/b)"
      ],
      "metadata": {
        "id": "_HsXor8xbyrA",
        "outputId": "ba1d8140-3c9b-42e1-bd48-ab57cd511289",
        "colab": {
          "base_uri": "https://localhost:8080/"
        }
      },
      "execution_count": 10,
      "outputs": [
        {
          "output_type": "stream",
          "name": "stdout",
          "text": [
            "30\n",
            "-10\n",
            "200\n",
            "0.5\n"
          ]
        }
      ]
    },
    {
      "cell_type": "code",
      "source": [
        "#Relational Operators\n",
        "a=10\n",
        "b=20\n",
        "a>b"
      ],
      "metadata": {
        "id": "slrieD-XbyvN",
        "outputId": "94a2bcf6-c567-4896-bbec-bc065cc8359c",
        "colab": {
          "base_uri": "https://localhost:8080/"
        }
      },
      "execution_count": 11,
      "outputs": [
        {
          "output_type": "execute_result",
          "data": {
            "text/plain": [
              "False"
            ]
          },
          "metadata": {},
          "execution_count": 11
        }
      ]
    },
    {
      "cell_type": "code",
      "source": [
        "a<b"
      ],
      "metadata": {
        "id": "0WBBuuGWb6Ez",
        "outputId": "45da6f55-e630-40d7-ae45-5ed92beef2a1",
        "colab": {
          "base_uri": "https://localhost:8080/"
        }
      },
      "execution_count": 12,
      "outputs": [
        {
          "output_type": "execute_result",
          "data": {
            "text/plain": [
              "True"
            ]
          },
          "metadata": {},
          "execution_count": 12
        }
      ]
    },
    {
      "cell_type": "code",
      "source": [
        "a==b\n"
      ],
      "metadata": {
        "id": "Cg5A1Twvb6H0",
        "outputId": "9af1c41f-4851-4109-87e1-0c9425735862",
        "colab": {
          "base_uri": "https://localhost:8080/"
        }
      },
      "execution_count": 13,
      "outputs": [
        {
          "output_type": "execute_result",
          "data": {
            "text/plain": [
              "False"
            ]
          },
          "metadata": {},
          "execution_count": 13
        }
      ]
    },
    {
      "cell_type": "code",
      "source": [
        "a!=b\n"
      ],
      "metadata": {
        "id": "YiqcmtYgb6KT",
        "outputId": "caaa662a-db7f-47a4-b877-2df0cac632e4",
        "colab": {
          "base_uri": "https://localhost:8080/"
        }
      },
      "execution_count": 14,
      "outputs": [
        {
          "output_type": "execute_result",
          "data": {
            "text/plain": [
              "True"
            ]
          },
          "metadata": {},
          "execution_count": 14
        }
      ]
    },
    {
      "cell_type": "code",
      "source": [
        "#Logical Operators\n",
        "a=True\n",
        "b=False\n",
        "a&b"
      ],
      "metadata": {
        "id": "1Ctl57gcb6NS",
        "outputId": "31386e50-9011-4c91-8c54-53c50e3ada6b",
        "colab": {
          "base_uri": "https://localhost:8080/"
        }
      },
      "execution_count": 15,
      "outputs": [
        {
          "output_type": "execute_result",
          "data": {
            "text/plain": [
              "False"
            ]
          },
          "metadata": {},
          "execution_count": 15
        }
      ]
    },
    {
      "cell_type": "code",
      "source": [
        "b&a"
      ],
      "metadata": {
        "id": "QxSBPfLBb6P7",
        "outputId": "52794fd7-c852-4528-e05e-d4d8a7c596ab",
        "colab": {
          "base_uri": "https://localhost:8080/"
        }
      },
      "execution_count": 16,
      "outputs": [
        {
          "output_type": "execute_result",
          "data": {
            "text/plain": [
              "False"
            ]
          },
          "metadata": {},
          "execution_count": 16
        }
      ]
    },
    {
      "cell_type": "code",
      "source": [
        "b&b"
      ],
      "metadata": {
        "id": "58JTBbZUcBfr",
        "outputId": "784b4497-d1bc-48f5-ad9b-cf365f6ffc8b",
        "colab": {
          "base_uri": "https://localhost:8080/"
        }
      },
      "execution_count": 17,
      "outputs": [
        {
          "output_type": "execute_result",
          "data": {
            "text/plain": [
              "False"
            ]
          },
          "metadata": {},
          "execution_count": 17
        }
      ]
    },
    {
      "cell_type": "code",
      "source": [
        "a&a"
      ],
      "metadata": {
        "id": "JvXWnl_PcBih",
        "outputId": "ad79ac63-f0b6-48a9-8842-befca6795b4c",
        "colab": {
          "base_uri": "https://localhost:8080/"
        }
      },
      "execution_count": 18,
      "outputs": [
        {
          "output_type": "execute_result",
          "data": {
            "text/plain": [
              "True"
            ]
          },
          "metadata": {},
          "execution_count": 18
        }
      ]
    },
    {
      "cell_type": "code",
      "source": [
        "a|b"
      ],
      "metadata": {
        "id": "Q4jr9gYBcBlc",
        "outputId": "41d5171c-029a-4542-a9e0-33255144dd87",
        "colab": {
          "base_uri": "https://localhost:8080/"
        }
      },
      "execution_count": 19,
      "outputs": [
        {
          "output_type": "execute_result",
          "data": {
            "text/plain": [
              "True"
            ]
          },
          "metadata": {},
          "execution_count": 19
        }
      ]
    },
    {
      "cell_type": "code",
      "source": [
        "b|a\n"
      ],
      "metadata": {
        "id": "OAeFhamncBoR",
        "outputId": "94649d3c-142a-454f-906f-490c83d6d438",
        "colab": {
          "base_uri": "https://localhost:8080/"
        }
      },
      "execution_count": 20,
      "outputs": [
        {
          "output_type": "execute_result",
          "data": {
            "text/plain": [
              "True"
            ]
          },
          "metadata": {},
          "execution_count": 20
        }
      ]
    },
    {
      "cell_type": "code",
      "source": [
        "a|a"
      ],
      "metadata": {
        "id": "UrRtDk4LcBrA",
        "outputId": "e36d00dc-8d63-4feb-a98c-d835162758e4",
        "colab": {
          "base_uri": "https://localhost:8080/"
        }
      },
      "execution_count": 21,
      "outputs": [
        {
          "output_type": "execute_result",
          "data": {
            "text/plain": [
              "True"
            ]
          },
          "metadata": {},
          "execution_count": 21
        }
      ]
    },
    {
      "cell_type": "code",
      "source": [
        "b|b"
      ],
      "metadata": {
        "id": "acBUUzAUcLdt",
        "outputId": "860a28ad-f40c-4557-f777-404ba11c0903",
        "colab": {
          "base_uri": "https://localhost:8080/"
        }
      },
      "execution_count": 22,
      "outputs": [
        {
          "output_type": "execute_result",
          "data": {
            "text/plain": [
              "False"
            ]
          },
          "metadata": {},
          "execution_count": 22
        }
      ]
    },
    {
      "cell_type": "code",
      "source": [
        "#Strings\n",
        "my_string=\"My name is John\"\n",
        "my_string[0]"
      ],
      "metadata": {
        "id": "ZRi5c4nGcNNl",
        "outputId": "698f2421-f12e-4853-f86b-34cacc732dfd",
        "colab": {
          "base_uri": "https://localhost:8080/",
          "height": 35
        }
      },
      "execution_count": 23,
      "outputs": [
        {
          "output_type": "execute_result",
          "data": {
            "text/plain": [
              "'M'"
            ],
            "application/vnd.google.colaboratory.intrinsic+json": {
              "type": "string"
            }
          },
          "metadata": {},
          "execution_count": 23
        }
      ]
    },
    {
      "cell_type": "code",
      "source": [
        "my_string=\"My name is John\"\n",
        "my_string[-1]"
      ],
      "metadata": {
        "id": "0TFL8GktcNQ2",
        "outputId": "5f8b632c-427f-4366-db9a-27446ced5c66",
        "colab": {
          "base_uri": "https://localhost:8080/",
          "height": 35
        }
      },
      "execution_count": 24,
      "outputs": [
        {
          "output_type": "execute_result",
          "data": {
            "text/plain": [
              "'n'"
            ],
            "application/vnd.google.colaboratory.intrinsic+json": {
              "type": "string"
            }
          },
          "metadata": {},
          "execution_count": 24
        }
      ]
    },
    {
      "cell_type": "code",
      "source": [
        "\n",
        "\n",
        "len(my_string)"
      ],
      "metadata": {
        "id": "Lkuki9KEcNTh",
        "outputId": "76ce6d96-3647-48ad-e19b-fb98db4ea5e8",
        "colab": {
          "base_uri": "https://localhost:8080/"
        }
      },
      "execution_count": 25,
      "outputs": [
        {
          "output_type": "execute_result",
          "data": {
            "text/plain": [
              "15"
            ]
          },
          "metadata": {},
          "execution_count": 25
        }
      ]
    },
    {
      "cell_type": "code",
      "source": [
        "my_string[0:4]"
      ],
      "metadata": {
        "id": "KLTAJWCeeJt-",
        "outputId": "c775d23d-8326-4e01-e0b8-67aa28c91058",
        "colab": {
          "base_uri": "https://localhost:8080/",
          "height": 35
        }
      },
      "execution_count": 26,
      "outputs": [
        {
          "output_type": "execute_result",
          "data": {
            "text/plain": [
              "'My n'"
            ],
            "application/vnd.google.colaboratory.intrinsic+json": {
              "type": "string"
            }
          },
          "metadata": {},
          "execution_count": 26
        }
      ]
    },
    {
      "cell_type": "code",
      "source": [
        "my_string.lower()"
      ],
      "metadata": {
        "id": "zg8XNMtecNWQ",
        "outputId": "303e6f4e-0186-430b-83d8-7aaf392c6fa6",
        "colab": {
          "base_uri": "https://localhost:8080/",
          "height": 35
        }
      },
      "execution_count": 27,
      "outputs": [
        {
          "output_type": "execute_result",
          "data": {
            "text/plain": [
              "'my name is john'"
            ],
            "application/vnd.google.colaboratory.intrinsic+json": {
              "type": "string"
            }
          },
          "metadata": {},
          "execution_count": 27
        }
      ]
    },
    {
      "cell_type": "code",
      "source": [
        "my_string.upper()"
      ],
      "metadata": {
        "id": "0JF-pihccNY1",
        "outputId": "5be8fe82-e4fc-45f9-b972-6c7460c22ad9",
        "colab": {
          "base_uri": "https://localhost:8080/",
          "height": 35
        }
      },
      "execution_count": 28,
      "outputs": [
        {
          "output_type": "execute_result",
          "data": {
            "text/plain": [
              "'MY NAME IS JOHN'"
            ],
            "application/vnd.google.colaboratory.intrinsic+json": {
              "type": "string"
            }
          },
          "metadata": {},
          "execution_count": 28
        }
      ]
    },
    {
      "cell_type": "code",
      "source": [
        "my_string.replace('y','a')"
      ],
      "metadata": {
        "id": "QOE2v1kicNa9",
        "outputId": "b59c763b-6961-4b0a-8a91-69d8e9d6e5d4",
        "colab": {
          "base_uri": "https://localhost:8080/",
          "height": 35
        }
      },
      "execution_count": 29,
      "outputs": [
        {
          "output_type": "execute_result",
          "data": {
            "text/plain": [
              "'Ma name is John'"
            ],
            "application/vnd.google.colaboratory.intrinsic+json": {
              "type": "string"
            }
          },
          "metadata": {},
          "execution_count": 29
        }
      ]
    },
    {
      "cell_type": "code",
      "source": [
        "new_string = \"hello hello world\"\n",
        "new_string.count(\"hello\")"
      ],
      "metadata": {
        "id": "XZf2F10LcWIX",
        "outputId": "5553e87b-e594-45c8-cf23-f1e1cc81aa6a",
        "colab": {
          "base_uri": "https://localhost:8080/"
        }
      },
      "execution_count": 30,
      "outputs": [
        {
          "output_type": "execute_result",
          "data": {
            "text/plain": [
              "2"
            ]
          },
          "metadata": {},
          "execution_count": 30
        }
      ]
    },
    {
      "cell_type": "code",
      "source": [
        "s1 = 'This is sparta!!!'\n",
        "s1.find('sparta')"
      ],
      "metadata": {
        "id": "QiGqYmLlcWLq",
        "outputId": "1b63bac8-5ada-4a55-9357-e1591bddc734",
        "colab": {
          "base_uri": "https://localhost:8080/"
        }
      },
      "execution_count": 31,
      "outputs": [
        {
          "output_type": "execute_result",
          "data": {
            "text/plain": [
              "8"
            ]
          },
          "metadata": {},
          "execution_count": 31
        }
      ]
    },
    {
      "cell_type": "code",
      "source": [
        "s1.find('b')"
      ],
      "metadata": {
        "id": "eCncDqCEcWOn",
        "outputId": "6e3f4d82-f311-47ff-df64-6fac7038357e",
        "colab": {
          "base_uri": "https://localhost:8080/"
        }
      },
      "execution_count": 32,
      "outputs": [
        {
          "output_type": "execute_result",
          "data": {
            "text/plain": [
              "-1"
            ]
          },
          "metadata": {},
          "execution_count": 32
        }
      ]
    },
    {
      "cell_type": "code",
      "source": [
        "fruit = 'I like apples, mangoes, bananas'\n",
        "\n",
        "fruit.split(',')"
      ],
      "metadata": {
        "id": "CJs1ywnocWRv",
        "outputId": "f73c1e50-8f1e-44e4-ec8d-0ecf8adaa6db",
        "colab": {
          "base_uri": "https://localhost:8080/"
        }
      },
      "execution_count": 33,
      "outputs": [
        {
          "output_type": "execute_result",
          "data": {
            "text/plain": [
              "['I like apples', ' mangoes', ' bananas']"
            ]
          },
          "metadata": {},
          "execution_count": 33
        }
      ]
    },
    {
      "cell_type": "code",
      "source": [
        "#Tuples in Python\n",
        "tup1=(1,\"a\",True,2,\"b\",False)\n",
        "tup1"
      ],
      "metadata": {
        "id": "nqst9HQ7cWVE",
        "outputId": "8f81af3b-6cad-48a1-947c-79fc44fe25ff",
        "colab": {
          "base_uri": "https://localhost:8080/"
        }
      },
      "execution_count": 34,
      "outputs": [
        {
          "output_type": "execute_result",
          "data": {
            "text/plain": [
              "(1, 'a', True, 2, 'b', False)"
            ]
          },
          "metadata": {},
          "execution_count": 34
        }
      ]
    },
    {
      "cell_type": "code",
      "source": [],
      "metadata": {
        "id": "tOkaD1A9eSAK"
      },
      "execution_count": null,
      "outputs": []
    },
    {
      "cell_type": "code",
      "source": [],
      "metadata": {
        "id": "YSP_KbsyeSDT"
      },
      "execution_count": null,
      "outputs": []
    },
    {
      "cell_type": "code",
      "source": [],
      "metadata": {
        "id": "w6aQ9C03eSF-"
      },
      "execution_count": null,
      "outputs": []
    },
    {
      "cell_type": "code",
      "source": [],
      "metadata": {
        "id": "Y_NRMQG6eSJN"
      },
      "execution_count": null,
      "outputs": []
    },
    {
      "cell_type": "code",
      "source": [],
      "metadata": {
        "id": "Zd-nzOA7eSL1"
      },
      "execution_count": null,
      "outputs": []
    },
    {
      "cell_type": "code",
      "source": [],
      "metadata": {
        "id": "TPav5_IteSOf"
      },
      "execution_count": null,
      "outputs": []
    },
    {
      "cell_type": "code",
      "source": [],
      "metadata": {
        "id": "e4NeJI0fbjyN"
      },
      "execution_count": null,
      "outputs": []
    },
    {
      "cell_type": "code",
      "source": [],
      "metadata": {
        "id": "qYYC--fbbj1I"
      },
      "execution_count": null,
      "outputs": []
    },
    {
      "cell_type": "code",
      "source": [],
      "metadata": {
        "id": "JGxiduoYbj33"
      },
      "execution_count": null,
      "outputs": []
    },
    {
      "cell_type": "code",
      "source": [],
      "metadata": {
        "id": "o4iEwx99bj61"
      },
      "execution_count": null,
      "outputs": []
    }
  ]
}